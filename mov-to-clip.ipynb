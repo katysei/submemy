{
 "cells": [
  {
   "cell_type": "code",
   "execution_count": 4,
   "metadata": {},
   "outputs": [
    {
     "data": {
      "text/plain": [
       "\"Dredd.2012.1080p.BluRay.x264.YIFY.mp4\""
      ]
     },
     "execution_count": 4,
     "metadata": {},
     "output_type": "execute_result"
    }
   ],
   "source": [
    "require 'srt'\n",
    "require 'streamio-ffmpeg'\n",
    "subtitle_filename = \"Dredd.2012.German.UHDBD.2160p.HDR10.HEVC.DTSHD.DUBBED.DL.Remux-pmHD.eng.sdh.srt\"\n",
    "movie_filename = \"Dredd.2012.1080p.BluRay.x264.YIFY.mp4\""
   ]
  },
  {
   "cell_type": "markdown",
   "metadata": {},
   "source": [
    "Each line exposes the following methods/members:\n",
    "    sequence The incrementing subtitle ID (starts at 1)\n",
    "    text An Array holding one or multiple lines of text.\n",
    "    start_time The subtitle start timecode in seconds as a float\n",
    "    end_time The subtitle end timecode in seconds as a float\n",
    "    time_str Returns a timecode string of the form \"00:53:35,558 --> 00:53:36,556\"\n",
    "    display_coordinates Optional display coordinates of the form \"X1:100 X2:600 Y1:100 Y2:400\""
   ]
  },
  {
   "cell_type": "code",
   "execution_count": 5,
   "metadata": {},
   "outputs": [
    {
     "data": {
      "text/plain": [
       "\"Dredd.mp4\""
      ]
     },
     "execution_count": 5,
     "metadata": {},
     "output_type": "execute_result"
    }
   ],
   "source": [
    "movie_filename = \"Dredd.mp4\""
   ]
  },
  {
   "cell_type": "code",
   "execution_count": 6,
   "metadata": {
    "scrolled": true
   },
   "outputs": [
    {
     "data": {
      "text/plain": [
       "#<FFMPEG::Movie:0x00007fea714563a8 @path=\"Dredd.mp4\", @metadata={:streams=>[{:index=>0, :codec_name=>\"h264\", :codec_long_name=>\"H.264 / AVC / MPEG-4 AVC / MPEG-4 part 10\", :profile=>\"High\", :codec_type=>\"video\", :codec_time_base=>\"1001/48000\", :codec_tag_string=>\"avc1\", :codec_tag=>\"0x31637661\", :width=>1920, :height=>800, :coded_width=>1920, :coded_height=>800, :has_b_frames=>2, :sample_aspect_ratio=>\"1:1\", :display_aspect_ratio=>\"12:5\", :pix_fmt=>\"yuv420p\", :level=>40, :chroma_location=>\"left\", :refs=>1, :is_avc=>\"true\", :nal_length_size=>\"4\", :r_frame_rate=>\"24000/1001\", :avg_frame_rate=>\"24000/1001\", :time_base=>\"1/96000\", :start_pts=>8008, :start_time=>\"0.083417\", :duration_ts=>552167616, :duration=>\"5751.746000\", :bit_rate=>\"2141336\", :bits_per_raw_sample=>\"8\", :nb_frames=>\"137904\", :disposition=>{:default=>1, :dub=>0, :original=>0, :comment=>0, :lyrics=>0, :karaoke=>0, :forced=>0, :hearing_impaired=>0, :visual_impaired=>0, :clean_effects=>0, :attached_pic=>0, :timed_thumbnails=>0}, :tags=>{:creation_time=>\"2012-12-25T15:06:30.000000Z\", :language=>\"und\"}}, {:index=>1, :codec_name=>\"aac\", :codec_long_name=>\"AAC (Advanced Audio Coding)\", :profile=>\"LC\", :codec_type=>\"audio\", :codec_time_base=>\"1/48000\", :codec_tag_string=>\"mp4a\", :codec_tag=>\"0x6134706d\", :sample_fmt=>\"fltp\", :sample_rate=>\"48000\", :channels=>2, :channel_layout=>\"stereo\", :bits_per_sample=>0, :r_frame_rate=>\"0/0\", :avg_frame_rate=>\"0/0\", :time_base=>\"1/48000\", :start_pts=>0, :start_time=>\"0.000000\", :duration_ts=>276085760, :duration=>\"5751.786667\", :bit_rate=>\"95866\", :max_bit_rate=>\"139072\", :nb_frames=>\"269615\", :disposition=>{:default=>1, :dub=>0, :original=>0, :comment=>0, :lyrics=>0, :karaoke=>0, :forced=>0, :hearing_impaired=>0, :visual_impaired=>0, :clean_effects=>0, :attached_pic=>0, :timed_thumbnails=>0}, :tags=>{:creation_time=>\"2012-12-25T15:06:42.000000Z\", :language=>\"eng\", :handler_name=>\"GPAC ISO Audio Handler\"}}], :format=>{:filename=>\"Dredd.mp4\", :nb_streams=>2, :nb_programs=>0, :format_name=>\"mov,mp4,m4a,3gp,3g2,mj2\", :format_long_name=>\"QuickTime / MOV\", :start_time=>\"0.000000\", :duration=>\"5751.786667\", :size=>\"1611435849\", :bit_rate=>\"2241301\", :probe_score=>100, :tags=>{:major_brand=>\"isom\", :minor_version=>\"1\", :compatible_brands=>\"isomavc1\", :creation_time=>\"2012-12-25T15:06:30.000000Z\"}}}, @container=\"mov,mp4,m4a,3gp,3g2,mj2\", @duration=5751.786667, @time=0.0, @format_tags={:major_brand=>\"isom\", :minor_version=>\"1\", :compatible_brands=>\"isomavc1\", :creation_time=>\"2012-12-25T15:06:30.000000Z\"}, @creation_time=2012-12-25 15:06:30 UTC, @bitrate=2241301, @video_codec=\"h264\", @colorspace=\"yuv420p\", @width=1920, @height=800, @video_bitrate=2141336, @sar=\"1:1\", @dar=\"12:5\", @frame_rate=(24000/1001), @video_stream=\"h264 (High) (avc1 / 0x31637661), yuv420p, 1920x800 [SAR 1:1 DAR 12:5]\", @rotation=nil, @audio_streams=[{:index=>1, :channels=>2, :codec_name=>\"aac\", :sample_rate=>48000, :bitrate=>95866, :channel_layout=>\"stereo\", :tags=>nil, :overview=>\"aac (mp4a / 0x6134706d), 48000 Hz, stereo, fltp, 95866 bit/s\"}], @audio_channels=2, @audio_codec=\"aac\", @audio_sample_rate=48000, @audio_bitrate=95866, @audio_channel_layout=\"stereo\", @audio_tags=nil, @audio_stream=\"aac (mp4a / 0x6134706d), 48000 Hz, stereo, fltp, 95866 bit/s\">"
      ]
     },
     "execution_count": 6,
     "metadata": {},
     "output_type": "execute_result"
    }
   ],
   "source": [
    "movie = FFMPEG::Movie.new(movie_filename)"
   ]
  },
  {
   "cell_type": "code",
   "execution_count": 8,
   "metadata": {},
   "outputs": [
    {
     "data": {
      "text/plain": [
       "#<FFMPEG::Movie:0x00007fa2c8516ab8 @path=\"screenshot.bmp\", @metadata={:streams=>[{:index=>0, :codec_name=>\"bmp\", :codec_long_name=>\"BMP (Windows and OS/2 bitmap)\", :codec_type=>\"video\", :codec_time_base=>\"0/1\", :codec_tag_string=>\"[0][0][0][0]\", :codec_tag=>\"0x0000\", :width=>320, :height=>240, :coded_width=>320, :coded_height=>240, :has_b_frames=>0, :pix_fmt=>\"bgr24\", :level=>-99, :refs=>1, :r_frame_rate=>\"25/1\", :avg_frame_rate=>\"0/0\", :time_base=>\"1/25\", :disposition=>{:default=>0, :dub=>0, :original=>0, :comment=>0, :lyrics=>0, :karaoke=>0, :forced=>0, :hearing_impaired=>0, :visual_impaired=>0, :clean_effects=>0, :attached_pic=>0, :timed_thumbnails=>0}}], :format=>{:filename=>\"screenshot.bmp\", :nb_streams=>1, :nb_programs=>0, :format_name=>\"bmp_pipe\", :format_long_name=>\"piped bmp sequence\", :size=>\"230454\", :probe_score=>51}}, @container=\"bmp_pipe\", @duration=0.0, @time=0.0, @format_tags=nil, @creation_time=nil, @bitrate=0, @video_codec=\"bmp\", @colorspace=\"bgr24\", @width=320, @height=240, @video_bitrate=0, @sar=nil, @dar=nil, @frame_rate=nil, @video_stream=\"bmp () ([0][0][0][0] / 0x0000), bgr24, 320x240 [SAR  DAR ]\", @rotation=nil, @audio_streams=[]>"
      ]
     },
     "execution_count": 8,
     "metadata": {},
     "output_type": "execute_result"
    }
   ],
   "source": [
    "movie.screenshot(\"screenshot.bmp\", seek_time: 5, resolution: '320x240')"
   ]
  },
  {
   "cell_type": "code",
   "execution_count": null,
   "metadata": {},
   "outputs": [],
   "source": [
    "##movie.transcode(\"movie.mp4\", %w(-ac aac -vc libx264 -ac 2 ...))\n",
    "#ffmpeg -ss [start] -i in.mp4 -t [duration] -c copy out.mp4\n",
    "\n",
    "#ffmpeg -i inputFile -vcodec copy -acodec copy -ss 00:09:23 -to 00:25:33 outputFile\n",
    "#https://ffmpeg.org/ffmpeg.html\n",
    "#https://trac.ffmpeg.org/wiki/Seeking#Cuttingsmallsections\n",
    "#$ ffmpeg -ss 61.0 -t 2.5 -i StickAround.mp4 -f gif StickAround.gif\n"
   ]
  },
  {
   "cell_type": "code",
   "execution_count": 18,
   "metadata": {},
   "outputs": [
    {
     "data": {
      "text/plain": [
       "{:custom=>[\"-ss\", \"00:09:23\", \"-t\", \"15\"]}"
      ]
     },
     "execution_count": 18,
     "metadata": {},
     "output_type": "execute_result"
    }
   ],
   "source": [
    "options = { custom: %w(-ss 00:09:23 -t 15)\n",
    "}"
   ]
  },
  {
   "cell_type": "code",
   "execution_count": 19,
   "metadata": {},
   "outputs": [
    {
     "name": "stdout",
     "output_type": "stream",
     "text": [
      "#<FFMPEG::Movie:0x00007fea7138d958>\n"
     ]
    }
   ],
   "source": [
    "i = movie.transcode(\"clip_dredd.mp4\", options)\n",
    "puts i\n"
   ]
  },
  {
   "cell_type": "code",
   "execution_count": 20,
   "metadata": {},
   "outputs": [
    {
     "data": {
      "text/plain": [
       "#<FFMPEG::Movie:0x00007fea7134c020 @path=\"clip_dredd.gif\", @metadata={:streams=>[{:index=>0, :codec_name=>\"gif\", :codec_long_name=>\"GIF (Graphics Interchange Format)\", :codec_type=>\"video\", :codec_time_base=>\"1001/24000\", :codec_tag_string=>\"[0][0][0][0]\", :codec_tag=>\"0x0000\", :width=>1920, :height=>800, :coded_width=>1920, :coded_height=>800, :has_b_frames=>0, :pix_fmt=>\"bgra\", :level=>-99, :refs=>1, :r_frame_rate=>\"24/1\", :avg_frame_rate=>\"24000/1001\", :time_base=>\"1/100\", :disposition=>{:default=>0, :dub=>0, :original=>0, :comment=>0, :lyrics=>0, :karaoke=>0, :forced=>0, :hearing_impaired=>0, :visual_impaired=>0, :clean_effects=>0, :attached_pic=>0, :timed_thumbnails=>0}}], :format=>{:filename=>\"clip_dredd.gif\", :nb_streams=>1, :nb_programs=>0, :format_name=>\"gif\", :format_long_name=>\"CompuServe Graphics Interchange Format (GIF)\", :size=>\"56943575\", :probe_score=>100}}, @container=\"gif\", @duration=0.0, @time=0.0, @format_tags=nil, @creation_time=nil, @bitrate=0, @video_codec=\"gif\", @colorspace=\"bgra\", @width=1920, @height=800, @video_bitrate=0, @sar=nil, @dar=nil, @frame_rate=(24000/1001), @video_stream=\"gif () ([0][0][0][0] / 0x0000), bgra, 1920x800 [SAR  DAR ]\", @rotation=nil, @audio_streams=[]>"
      ]
     },
     "execution_count": 20,
     "metadata": {},
     "output_type": "execute_result"
    }
   ],
   "source": [
    "options = { custom: %w(-ss 00:09:23 -t 15 -f gif)\n",
    "}\n",
    "\n",
    "movie.transcode(\"clip_dredd.gif\", options)\n"
   ]
  },
  {
   "cell_type": "code",
   "execution_count": null,
   "metadata": {},
   "outputs": [],
   "source": []
  }
 ],
 "metadata": {
  "kernelspec": {
   "display_name": "Ruby 2.5.1",
   "language": "ruby",
   "name": "ruby"
  },
  "language_info": {
   "file_extension": ".rb",
   "mimetype": "application/x-ruby",
   "name": "ruby",
   "version": "2.5.1"
  },
  "varInspector": {
   "cols": {
    "lenName": 16,
    "lenType": 16,
    "lenVar": 40
   },
   "kernels_config": {
    "python": {
     "delete_cmd_postfix": "",
     "delete_cmd_prefix": "del ",
     "library": "var_list.py",
     "varRefreshCmd": "print(var_dic_list())"
    },
    "r": {
     "delete_cmd_postfix": ") ",
     "delete_cmd_prefix": "rm(",
     "library": "var_list.r",
     "varRefreshCmd": "cat(var_dic_list()) "
    }
   },
   "types_to_exclude": [
    "module",
    "function",
    "builtin_function_or_method",
    "instance",
    "_Feature"
   ],
   "window_display": false
  }
 },
 "nbformat": 4,
 "nbformat_minor": 2
}
